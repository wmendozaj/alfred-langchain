{
 "cells": [
  {
   "cell_type": "code",
   "execution_count": 15,
   "metadata": {},
   "outputs": [],
   "source": [
    "import speech_recognition as sr\n",
    "import time\n",
    "\n",
    "%run speak.ipynb import speak\n",
    "%run chatgpt.ipynb\n",
    "%run notion.ipynb import create_notion_page"
   ]
  },
  {
   "cell_type": "code",
   "execution_count": 16,
   "metadata": {},
   "outputs": [],
   "source": [
    "def listen():\n",
    "    r = sr.Recognizer()\n",
    "    with sr.Microphone() as source:\n",
    "        print(\"Calibrating...\")\n",
    "        r.adjust_for_ambient_noise(source, duration=5)\n",
    "\n",
    "        print(\"Done!\")\n",
    "        interaction = True\n",
    "        while interaction:\n",
    "            text = \"\"\n",
    "            print(\"Listening...\")\n",
    "            try:\n",
    "                audio = r.listen(source, timeout=5, phrase_time_limit=30)\n",
    "                print(\"Recognizing...\")\n",
    "                \n",
    "                # whisper model options are found here: \n",
    "                # https://github.com/openai/whisper#available-models-and-languages\n",
    "                text = r.recognize_whisper(\n",
    "                    audio,\n",
    "                    model=\"medium\",\n",
    "                    show_dict=True,\n",
    "                )[\"text\"]\n",
    "\n",
    "                speak(\"What I understood is: \")\n",
    "                time.sleep(2)\n",
    "                speak(text)\n",
    "\n",
    "                interaction = False\n",
    "\n",
    "            except Exception as e:\n",
    "                print(f\"I'm sorry, I didn't understand you. The error was: {e}s\")\n",
    "\n",
    "            try:\n",
    "                response_text = chatgpt_chain.predict(human_input=text)\n",
    "                response_text = response_text.strip()\n",
    "\n",
    "                if response_text:\n",
    "                    time.sleep(1)\n",
    "                    print(response_text)\n",
    "                    speak(response_text)\n",
    "\n",
    "                    create_notion_page(text, response_text)\n",
    "\n",
    "            except Exception as e:\n",
    "                print(f\"Sorry I couldn't answer. The error was: {e}s\")"
   ]
  }
 ],
 "metadata": {
  "kernelspec": {
   "display_name": "Python 3",
   "language": "python",
   "name": "python3"
  },
  "language_info": {
   "codemirror_mode": {
    "name": "ipython",
    "version": 3
   },
   "file_extension": ".py",
   "mimetype": "text/x-python",
   "name": "python",
   "nbconvert_exporter": "python",
   "pygments_lexer": "ipython3",
   "version": "3.11.4"
  },
  "orig_nbformat": 4
 },
 "nbformat": 4,
 "nbformat_minor": 2
}
