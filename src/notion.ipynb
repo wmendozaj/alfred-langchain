{
 "cells": [
  {
   "cell_type": "code",
   "execution_count": 31,
   "metadata": {},
   "outputs": [],
   "source": [
    "import notion_client\n",
    "\n",
    "%run secrets.ipynb"
   ]
  },
  {
   "cell_type": "code",
   "execution_count": 32,
   "metadata": {},
   "outputs": [],
   "source": [
    "notion = notion_client.Client(auth=NOTION_API_KEY)"
   ]
  },
  {
   "cell_type": "code",
   "execution_count": 33,
   "metadata": {},
   "outputs": [],
   "source": [
    "def create_page(properties, children, db_id=NOTION_DATABASE_ID):\n",
    "        notion_page = notion.pages.create(\n",
    "            parent={\"database_id\":db_id},\n",
    "            properties=properties,\n",
    "            children=children\n",
    "        )\n",
    "        return notion_page"
   ]
  },
  {
   "cell_type": "code",
   "execution_count": 34,
   "metadata": {},
   "outputs": [],
   "source": [
    "def create_notion_page(human_input, response_text):\n",
    "    properties = {\n",
    "        \"Name\": {\"title\": [{\"text\": {\"content\": f\"{human_input}\"}}]},\n",
    "        }\n",
    "    children_page = [{\"object\": \"block\", \"paragraph\":{\"rich_text\":[{\"text\":{\"content\":f\"{response_text}\"}}]}}]\n",
    "    create_page(properties=properties, children=children_page)"
   ]
  }
 ],
 "metadata": {
  "kernelspec": {
   "display_name": "Python 3",
   "language": "python",
   "name": "python3"
  },
  "language_info": {
   "codemirror_mode": {
    "name": "ipython",
    "version": 3
   },
   "file_extension": ".py",
   "mimetype": "text/x-python",
   "name": "python",
   "nbconvert_exporter": "python",
   "pygments_lexer": "ipython3",
   "version": "3.11.4"
  },
  "orig_nbformat": 4
 },
 "nbformat": 4,
 "nbformat_minor": 2
}
